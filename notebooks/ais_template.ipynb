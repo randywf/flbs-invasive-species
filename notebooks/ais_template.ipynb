{
 "cells": [
  {
   "cell_type": "markdown",
   "metadata": {},
   "source": [
    "# Species Name\n",
    "#### *Scientific name*\n",
    "---"
   ]
  },
  {
   "cell_type": "code",
   "execution_count": null,
   "metadata": {},
   "outputs": [],
   "source": [
    "%load_ext autoreload\n",
    "%autoreload 2"
   ]
  },
  {
   "cell_type": "code",
   "execution_count": null,
   "metadata": {},
   "outputs": [],
   "source": [
    "import sys\n",
    "\n",
    "import numpy as np\n",
    "import pandas as pd\n",
    "\n",
    "import flbs_ais.nas as nas"
   ]
  },
  {
   "cell_type": "markdown",
   "metadata": {},
   "source": [
    "#### Database Species Search Results\n",
    "NOTE: Enter scientific name in the following code block"
   ]
  },
  {
   "cell_type": "code",
   "execution_count": null,
   "metadata": {},
   "outputs": [],
   "source": [
    "search_result = nas.species_search('', '')\n",
    "search_string = nas.species_string(search_result)\n",
    "print(search_string)"
   ]
  },
  {
   "cell_type": "markdown",
   "metadata": {},
   "source": [
    "---\n",
    "## API Query Dataframe for [*species*]\n",
    "NOTE: Change the species ID in the following code block"
   ]
  },
  {
   "cell_type": "code",
   "execution_count": null,
   "metadata": {},
   "outputs": [],
   "source": [
    "api_key = \"\"\n",
    "with open(\"../tmp/api_key.txt\", 'r') as file:\n",
    "    api_key = file.readline()\n",
    "api_df = nas.getdf(0, keep_columns=None, limit=-1, api_key=api_key)\n",
    "print(f\"Results: {len(api_df)}\")\n",
    "api_df.head()"
   ]
  },
  {
   "cell_type": "markdown",
   "metadata": {},
   "source": [
    "---\n",
    "## Most Common References for API Query Dataframe"
   ]
  },
  {
   "cell_type": "code",
   "execution_count": null,
   "metadata": {},
   "outputs": [],
   "source": [
    "api_ref_count = nas.ref_counts(api_df)\n",
    "print(nas.ref_string(api_ref_count, limit=20))"
   ]
  },
  {
   "cell_type": "markdown",
   "metadata": {},
   "source": [
    "---\n",
    "## CSV File Dataframe for [*species*]\n",
    "NOTE: Edit the file path in the following code block"
   ]
  },
  {
   "cell_type": "code",
   "execution_count": null,
   "metadata": {},
   "outputs": [],
   "source": [
    "csv_df = nas.process_csv_df(\"../tmp/NAS-Data.csv\")\n",
    "print(f\"Results: {len(csv_df)}\")\n",
    "csv_df.head()"
   ]
  },
  {
   "cell_type": "markdown",
   "metadata": {},
   "source": [
    "---\n",
    "## Most Common References for CSV File Dataframe\n",
    "NOTE: Reference information for CSV files is not currently functional"
   ]
  },
  {
   "cell_type": "code",
   "execution_count": null,
   "metadata": {},
   "outputs": [],
   "source": [
    "#csv_ref_count = nas.ref_counts(csv_df)\n",
    "#print(nas.ref_string(csv_ref_count, limit=20))"
   ]
  }
 ],
 "metadata": {
  "kernelspec": {
   "display_name": "Python 3",
   "language": "python",
   "name": "python3"
  },
  "language_info": {
   "codemirror_mode": {
    "name": "ipython",
    "version": 3
   },
   "file_extension": ".py",
   "mimetype": "text/x-python",
   "name": "python",
   "nbconvert_exporter": "python",
   "pygments_lexer": "ipython3",
   "version": "3.7.7"
  }
 },
 "nbformat": 4,
 "nbformat_minor": 4
}

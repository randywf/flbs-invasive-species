{
 "cells": [
  {
   "cell_type": "markdown",
   "metadata": {},
   "source": [
    "# NAS Module Demonstration"
   ]
  },
  {
   "cell_type": "code",
   "execution_count": 1,
   "metadata": {},
   "outputs": [],
   "source": [
    "%load_ext autoreload\n",
    "%autoreload 2"
   ]
  },
  {
   "cell_type": "code",
   "execution_count": 2,
   "metadata": {},
   "outputs": [],
   "source": [
    "import pandas as pd\n",
    "import flbs_ais.nas as nas"
   ]
  },
  {
   "cell_type": "markdown",
   "metadata": {},
   "source": [
    "## Search for a species\n",
    "\n",
    "The following code will take a species' scientific name and search the NAS database for any matching species. The purpose of this is to obtain a species ID, which is needed for further methods of this module. The first method, *species_search*, returns a list of python dictionaries, each of which contains a series of values related to that species. The second function, *species_string*, returns a string of that list in a readable form."
   ]
  },
  {
   "cell_type": "code",
   "execution_count": 3,
   "metadata": {},
   "outputs": [
    {
     "name": "stdout",
     "output_type": "stream",
     "text": [
      "speciesID: 910\n",
      "itis_tsn: 161989\n",
      "group: Fishes\n",
      "family: Salmonidae\n",
      "genus: Oncorhynchus\n",
      "species: mykiss\n",
      "subspecies: \n",
      "variety: \n",
      "authority: (Walbaum, 1792)\n",
      "common_name: Rainbow Trout\n",
      "native_exotic: Native\n",
      "Fresh/Marine/Brackish: Freshwater-Marine\n",
      "\n",
      "speciesID: 911\n",
      "itis_tsn: 553422\n",
      "group: Fishes\n",
      "family: Salmonidae\n",
      "genus: Oncorhynchus\n",
      "species: mykiss\n",
      "subspecies: irideus\n",
      "variety: \n",
      "authority: (Gibbons, 1955)\n",
      "common_name: coastal rainbow trout\n",
      "native_exotic: Native\n",
      "Fresh/Marine/Brackish: Freshwater-Marine\n",
      "\n",
      "speciesID: 913\n",
      "itis_tsn: None\n",
      "group: Fishes\n",
      "family: Salmonidae\n",
      "genus: Oncorhynchus\n",
      "species: mykiss\n",
      "subspecies: kamloops strain\n",
      "variety: \n",
      "authority: \n",
      "common_name: Kamloops trout\n",
      "native_exotic: Native\n",
      "Fresh/Marine/Brackish: Freshwater-Marine\n",
      "\n",
      "speciesID: 914\n",
      "itis_tsn: None\n",
      "group: Fishes\n",
      "family: Salmonidae\n",
      "genus: Oncorhynchus\n",
      "species: mykiss\n",
      "subspecies: ssp.\n",
      "variety: \n",
      "authority: \n",
      "common_name: redband trout\n",
      "native_exotic: Native\n",
      "Fresh/Marine/Brackish: Freshwater-Marine\n",
      "\n",
      "\n"
     ]
    }
   ],
   "source": [
    "search_result = nas.species_search(\"Oncorhynchus\", \"mykiss\");\n",
    "search_string = nas.species_string(search_result);\n",
    "print(search_string)"
   ]
  },
  {
   "cell_type": "markdown",
   "metadata": {},
   "source": [
    "## Get a pandas dataframe for a species id\n",
    "\n",
    "Once a species ID is known, the *getdf* method can be used to get a pandas dataframe containing all the occurrence data for that species in the NAS database. The columns parameter determines which of the columns should be kept in the dataframe. The limit parameter determines how many rows will be in the dataframe, with a value of -1 returning unlimited results. An API key is necessary to get more than 100 rows.\n",
    "\n",
    "To return a list of column names for an occurrence dataframe, use *get_occurrence_header*. All column names are lower case with no spaces."
   ]
  },
  {
   "cell_type": "code",
   "execution_count": 70,
   "metadata": {},
   "outputs": [
    {
     "name": "stdout",
     "output_type": "stream",
     "text": [
      "\n",
      "List of Column Names in an Occurrence Table\n",
      "\n",
      "speciesid, group, family, genus, species, scientificname, commonname, state, county, locality, decimallatitude, decimallongitude, latlongsource, latlongaccuracy, centroidtype, huc8name, huc8, huc10name, huc10, huc12name, huc12, date, year, month, day, status, comments, recordtype, disposal, museumcatnumber, freshmarineintro, references\n",
      "\n",
      "\n",
      "20 Results from a Query Placed Into a Pandas Dataframe:\n",
      "\n",
      "Index(['key', 'speciesid', 'group', 'family', 'genus', 'species',\n",
      "       'scientificname', 'commonname', 'state', 'county', 'locality',\n",
      "       'decimallatitude', 'decimallongitude', 'latlongsource',\n",
      "       'latlongaccuracy', 'centroidtype', 'huc8name', 'huc8', 'huc10name',\n",
      "       'huc10', 'huc12name', 'huc12', 'date', 'year', 'month', 'day', 'status',\n",
      "       'comments', 'recordtype', 'disposal', 'museumcatnumber',\n",
      "       'freshmarineintro', 'references'],\n",
      "      dtype='object')\n",
      "0     [{'key': 360, 'refType': 'Report', 'year': 199...\n",
      "1     [{'key': 360, 'refType': 'Report', 'year': 199...\n",
      "2     [{'key': 360, 'refType': 'Report', 'year': 199...\n",
      "3     [{'key': 24224, 'refType': 'Database', 'year':...\n",
      "4     [{'key': 24224, 'refType': 'Database', 'year':...\n",
      "5     [{'key': 24224, 'refType': 'Database', 'year':...\n",
      "6     [{'key': 24224, 'refType': 'Database', 'year':...\n",
      "7     [{'key': 24224, 'refType': 'Database', 'year':...\n",
      "8     [{'key': 24224, 'refType': 'Database', 'year':...\n",
      "9     [{'key': 24224, 'refType': 'Database', 'year':...\n",
      "10    [{'key': 24224, 'refType': 'Database', 'year':...\n",
      "11    [{'key': 24224, 'refType': 'Database', 'year':...\n",
      "12    [{'key': 24224, 'refType': 'Database', 'year':...\n",
      "13    [{'key': 24224, 'refType': 'Database', 'year':...\n",
      "14    [{'key': 24224, 'refType': 'Database', 'year':...\n",
      "15    [{'key': 24224, 'refType': 'Database', 'year':...\n",
      "16    [{'key': 24224, 'refType': 'Database', 'year':...\n",
      "17    [{'key': 24224, 'refType': 'Database', 'year':...\n",
      "18    [{'key': 24224, 'refType': 'Database', 'year':...\n",
      "19    [{'key': 24224, 'refType': 'Database', 'year':...\n",
      "Name: references, dtype: object\n"
     ]
    }
   ],
   "source": [
    "print(\"\\nList of Column Names in an Occurrence Table\\n\")\n",
    "name_list = nas.get_occurrence_header()\n",
    "for i, name in enumerate(name_list):\n",
    "    if i:\n",
    "        # Print a comma if this is not the first element\n",
    "        print(', ', end='')\n",
    "    # Print the column name after the comma\n",
    "    print(name, end='')\n",
    "print()\n",
    "\n",
    "print(\"\\n\\n20 Results from a Query Placed Into a Pandas Dataframe:\\n\")\n",
    "redband_trout_df = nas.getdf(914, keep_columns=None, limit=20, api_key=None)\n",
    "print(redband_trout_df.columns)\n",
    "print(redband_trout_df['references'])"
   ]
  },
  {
   "cell_type": "markdown",
   "metadata": {},
   "source": [
    "## Processing NAS CSV files"
   ]
  },
  {
   "cell_type": "code",
   "execution_count": 110,
   "metadata": {},
   "outputs": [],
   "source": [
    "nas_csv_df = nas.process_csv_df(\"../demo/NAS_data_914.csv\", keep_columns=None)\n",
    "#print(nas_csv_df.columns)"
   ]
  },
  {
   "cell_type": "code",
   "execution_count": null,
   "metadata": {},
   "outputs": [],
   "source": []
  }
 ],
 "metadata": {
  "kernelspec": {
   "display_name": "Python 3",
   "language": "python",
   "name": "python3"
  },
  "language_info": {
   "codemirror_mode": {
    "name": "ipython",
    "version": 3
   },
   "file_extension": ".py",
   "mimetype": "text/x-python",
   "name": "python",
   "nbconvert_exporter": "python",
   "pygments_lexer": "ipython3",
   "version": "3.7.7"
  }
 },
 "nbformat": 4,
 "nbformat_minor": 4
}
